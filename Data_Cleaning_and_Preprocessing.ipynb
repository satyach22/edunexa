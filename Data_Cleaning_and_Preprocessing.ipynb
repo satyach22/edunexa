{
 "cells": [
  {
   "cell_type": "code",
   "execution_count": 2,
   "id": "944505a1",
   "metadata": {},
   "outputs": [
    {
     "data": {
      "text/html": [
       "<div>\n",
       "<style scoped>\n",
       "    .dataframe tbody tr th:only-of-type {\n",
       "        vertical-align: middle;\n",
       "    }\n",
       "\n",
       "    .dataframe tbody tr th {\n",
       "        vertical-align: top;\n",
       "    }\n",
       "\n",
       "    .dataframe thead th {\n",
       "        text-align: right;\n",
       "    }\n",
       "</style>\n",
       "<table border=\"1\" class=\"dataframe\">\n",
       "  <thead>\n",
       "    <tr style=\"text-align: right;\">\n",
       "      <th></th>\n",
       "      <th>Identifier</th>\n",
       "      <th>Edition Statement</th>\n",
       "      <th>Place of Publication</th>\n",
       "      <th>Date of Publication</th>\n",
       "      <th>Publisher</th>\n",
       "      <th>Title</th>\n",
       "      <th>Author</th>\n",
       "      <th>Contributors</th>\n",
       "      <th>Corporate Author</th>\n",
       "      <th>Corporate Contributors</th>\n",
       "      <th>Former owner</th>\n",
       "      <th>Engraver</th>\n",
       "      <th>Issuance type</th>\n",
       "      <th>Flickr URL</th>\n",
       "      <th>Shelfmarks</th>\n",
       "    </tr>\n",
       "  </thead>\n",
       "  <tbody>\n",
       "    <tr>\n",
       "      <th>0</th>\n",
       "      <td>206</td>\n",
       "      <td>NaN</td>\n",
       "      <td>London</td>\n",
       "      <td>1879 [1878]</td>\n",
       "      <td>S. Tinsley &amp; Co.</td>\n",
       "      <td>Walter Forbes. [A novel.] By A. A</td>\n",
       "      <td>A. A.</td>\n",
       "      <td>FORBES, Walter.</td>\n",
       "      <td>NaN</td>\n",
       "      <td>NaN</td>\n",
       "      <td>NaN</td>\n",
       "      <td>NaN</td>\n",
       "      <td>monographic</td>\n",
       "      <td>http://www.flickr.com/photos/britishlibrary/ta...</td>\n",
       "      <td>British Library HMNTS 12641.b.30.</td>\n",
       "    </tr>\n",
       "    <tr>\n",
       "      <th>1</th>\n",
       "      <td>216</td>\n",
       "      <td>NaN</td>\n",
       "      <td>London; Virtue &amp; Yorston</td>\n",
       "      <td>1868</td>\n",
       "      <td>Virtue &amp; Co.</td>\n",
       "      <td>All for Greed. [A novel. The dedication signed...</td>\n",
       "      <td>A., A. A.</td>\n",
       "      <td>BLAZE DE BURY, Marie Pauline Rose - Baroness</td>\n",
       "      <td>NaN</td>\n",
       "      <td>NaN</td>\n",
       "      <td>NaN</td>\n",
       "      <td>NaN</td>\n",
       "      <td>monographic</td>\n",
       "      <td>http://www.flickr.com/photos/britishlibrary/ta...</td>\n",
       "      <td>British Library HMNTS 12626.cc.2.</td>\n",
       "    </tr>\n",
       "    <tr>\n",
       "      <th>2</th>\n",
       "      <td>218</td>\n",
       "      <td>NaN</td>\n",
       "      <td>London</td>\n",
       "      <td>1869</td>\n",
       "      <td>Bradbury, Evans &amp; Co.</td>\n",
       "      <td>Love the Avenger. By the author of “All for Gr...</td>\n",
       "      <td>A., A. A.</td>\n",
       "      <td>BLAZE DE BURY, Marie Pauline Rose - Baroness</td>\n",
       "      <td>NaN</td>\n",
       "      <td>NaN</td>\n",
       "      <td>NaN</td>\n",
       "      <td>NaN</td>\n",
       "      <td>monographic</td>\n",
       "      <td>http://www.flickr.com/photos/britishlibrary/ta...</td>\n",
       "      <td>British Library HMNTS 12625.dd.1.</td>\n",
       "    </tr>\n",
       "    <tr>\n",
       "      <th>3</th>\n",
       "      <td>472</td>\n",
       "      <td>NaN</td>\n",
       "      <td>London</td>\n",
       "      <td>1851</td>\n",
       "      <td>James Darling</td>\n",
       "      <td>Welsh Sketches, chiefly ecclesiastical, to the...</td>\n",
       "      <td>A., E. S.</td>\n",
       "      <td>Appleyard, Ernest Silvanus.</td>\n",
       "      <td>NaN</td>\n",
       "      <td>NaN</td>\n",
       "      <td>NaN</td>\n",
       "      <td>NaN</td>\n",
       "      <td>monographic</td>\n",
       "      <td>http://www.flickr.com/photos/britishlibrary/ta...</td>\n",
       "      <td>British Library HMNTS 10369.bbb.15.</td>\n",
       "    </tr>\n",
       "    <tr>\n",
       "      <th>4</th>\n",
       "      <td>480</td>\n",
       "      <td>A new edition, revised, etc.</td>\n",
       "      <td>London</td>\n",
       "      <td>1857</td>\n",
       "      <td>Wertheim &amp; Macintosh</td>\n",
       "      <td>[The World in which I live, and my place in it...</td>\n",
       "      <td>A., E. S.</td>\n",
       "      <td>BROOME, John Henry.</td>\n",
       "      <td>NaN</td>\n",
       "      <td>NaN</td>\n",
       "      <td>NaN</td>\n",
       "      <td>NaN</td>\n",
       "      <td>monographic</td>\n",
       "      <td>http://www.flickr.com/photos/britishlibrary/ta...</td>\n",
       "      <td>British Library HMNTS 9007.d.28.</td>\n",
       "    </tr>\n",
       "  </tbody>\n",
       "</table>\n",
       "</div>"
      ],
      "text/plain": [
       "   Identifier             Edition Statement      Place of Publication  \\\n",
       "0         206                           NaN                    London   \n",
       "1         216                           NaN  London; Virtue & Yorston   \n",
       "2         218                           NaN                    London   \n",
       "3         472                           NaN                    London   \n",
       "4         480  A new edition, revised, etc.                    London   \n",
       "\n",
       "  Date of Publication              Publisher  \\\n",
       "0         1879 [1878]       S. Tinsley & Co.   \n",
       "1                1868           Virtue & Co.   \n",
       "2                1869  Bradbury, Evans & Co.   \n",
       "3                1851          James Darling   \n",
       "4                1857   Wertheim & Macintosh   \n",
       "\n",
       "                                               Title     Author  \\\n",
       "0                  Walter Forbes. [A novel.] By A. A      A. A.   \n",
       "1  All for Greed. [A novel. The dedication signed...  A., A. A.   \n",
       "2  Love the Avenger. By the author of “All for Gr...  A., A. A.   \n",
       "3  Welsh Sketches, chiefly ecclesiastical, to the...  A., E. S.   \n",
       "4  [The World in which I live, and my place in it...  A., E. S.   \n",
       "\n",
       "                                   Contributors  Corporate Author  \\\n",
       "0                               FORBES, Walter.               NaN   \n",
       "1  BLAZE DE BURY, Marie Pauline Rose - Baroness               NaN   \n",
       "2  BLAZE DE BURY, Marie Pauline Rose - Baroness               NaN   \n",
       "3                   Appleyard, Ernest Silvanus.               NaN   \n",
       "4                           BROOME, John Henry.               NaN   \n",
       "\n",
       "   Corporate Contributors Former owner  Engraver Issuance type  \\\n",
       "0                     NaN          NaN       NaN   monographic   \n",
       "1                     NaN          NaN       NaN   monographic   \n",
       "2                     NaN          NaN       NaN   monographic   \n",
       "3                     NaN          NaN       NaN   monographic   \n",
       "4                     NaN          NaN       NaN   monographic   \n",
       "\n",
       "                                          Flickr URL  \\\n",
       "0  http://www.flickr.com/photos/britishlibrary/ta...   \n",
       "1  http://www.flickr.com/photos/britishlibrary/ta...   \n",
       "2  http://www.flickr.com/photos/britishlibrary/ta...   \n",
       "3  http://www.flickr.com/photos/britishlibrary/ta...   \n",
       "4  http://www.flickr.com/photos/britishlibrary/ta...   \n",
       "\n",
       "                            Shelfmarks  \n",
       "0    British Library HMNTS 12641.b.30.  \n",
       "1    British Library HMNTS 12626.cc.2.  \n",
       "2    British Library HMNTS 12625.dd.1.  \n",
       "3  British Library HMNTS 10369.bbb.15.  \n",
       "4     British Library HMNTS 9007.d.28.  "
      ]
     },
     "execution_count": 2,
     "metadata": {},
     "output_type": "execute_result"
    }
   ],
   "source": [
    "import pandas as pd\n",
    "import numpy as np\n",
    "df = pd.read_csv('C:/Users/Sasi Kumar/Desktop/BL-Flickr-Images-Book.csv')\n",
    "df.head()"
   ]
  },
  {
   "cell_type": "code",
   "execution_count": 3,
   "id": "2cc97424",
   "metadata": {},
   "outputs": [
    {
     "data": {
      "text/plain": [
       "True"
      ]
     },
     "execution_count": 3,
     "metadata": {},
     "output_type": "execute_result"
    }
   ],
   "source": [
    "#Changing the index of a DataFrame\n",
    "df['Identifier'].is_unique"
   ]
  },
  {
   "cell_type": "code",
   "execution_count": 4,
   "id": "07ccd6de",
   "metadata": {},
   "outputs": [
    {
     "data": {
      "text/html": [
       "<div>\n",
       "<style scoped>\n",
       "    .dataframe tbody tr th:only-of-type {\n",
       "        vertical-align: middle;\n",
       "    }\n",
       "\n",
       "    .dataframe tbody tr th {\n",
       "        vertical-align: top;\n",
       "    }\n",
       "\n",
       "    .dataframe thead th {\n",
       "        text-align: right;\n",
       "    }\n",
       "</style>\n",
       "<table border=\"1\" class=\"dataframe\">\n",
       "  <thead>\n",
       "    <tr style=\"text-align: right;\">\n",
       "      <th></th>\n",
       "      <th>Edition Statement</th>\n",
       "      <th>Place of Publication</th>\n",
       "      <th>Date of Publication</th>\n",
       "      <th>Publisher</th>\n",
       "      <th>Title</th>\n",
       "      <th>Author</th>\n",
       "      <th>Contributors</th>\n",
       "      <th>Corporate Author</th>\n",
       "      <th>Corporate Contributors</th>\n",
       "      <th>Former owner</th>\n",
       "      <th>Engraver</th>\n",
       "      <th>Issuance type</th>\n",
       "      <th>Flickr URL</th>\n",
       "      <th>Shelfmarks</th>\n",
       "    </tr>\n",
       "    <tr>\n",
       "      <th>Identifier</th>\n",
       "      <th></th>\n",
       "      <th></th>\n",
       "      <th></th>\n",
       "      <th></th>\n",
       "      <th></th>\n",
       "      <th></th>\n",
       "      <th></th>\n",
       "      <th></th>\n",
       "      <th></th>\n",
       "      <th></th>\n",
       "      <th></th>\n",
       "      <th></th>\n",
       "      <th></th>\n",
       "      <th></th>\n",
       "    </tr>\n",
       "  </thead>\n",
       "  <tbody>\n",
       "    <tr>\n",
       "      <th>206</th>\n",
       "      <td>NaN</td>\n",
       "      <td>London</td>\n",
       "      <td>1879 [1878]</td>\n",
       "      <td>S. Tinsley &amp; Co.</td>\n",
       "      <td>Walter Forbes. [A novel.] By A. A</td>\n",
       "      <td>A. A.</td>\n",
       "      <td>FORBES, Walter.</td>\n",
       "      <td>NaN</td>\n",
       "      <td>NaN</td>\n",
       "      <td>NaN</td>\n",
       "      <td>NaN</td>\n",
       "      <td>monographic</td>\n",
       "      <td>http://www.flickr.com/photos/britishlibrary/ta...</td>\n",
       "      <td>British Library HMNTS 12641.b.30.</td>\n",
       "    </tr>\n",
       "    <tr>\n",
       "      <th>216</th>\n",
       "      <td>NaN</td>\n",
       "      <td>London; Virtue &amp; Yorston</td>\n",
       "      <td>1868</td>\n",
       "      <td>Virtue &amp; Co.</td>\n",
       "      <td>All for Greed. [A novel. The dedication signed...</td>\n",
       "      <td>A., A. A.</td>\n",
       "      <td>BLAZE DE BURY, Marie Pauline Rose - Baroness</td>\n",
       "      <td>NaN</td>\n",
       "      <td>NaN</td>\n",
       "      <td>NaN</td>\n",
       "      <td>NaN</td>\n",
       "      <td>monographic</td>\n",
       "      <td>http://www.flickr.com/photos/britishlibrary/ta...</td>\n",
       "      <td>British Library HMNTS 12626.cc.2.</td>\n",
       "    </tr>\n",
       "    <tr>\n",
       "      <th>218</th>\n",
       "      <td>NaN</td>\n",
       "      <td>London</td>\n",
       "      <td>1869</td>\n",
       "      <td>Bradbury, Evans &amp; Co.</td>\n",
       "      <td>Love the Avenger. By the author of “All for Gr...</td>\n",
       "      <td>A., A. A.</td>\n",
       "      <td>BLAZE DE BURY, Marie Pauline Rose - Baroness</td>\n",
       "      <td>NaN</td>\n",
       "      <td>NaN</td>\n",
       "      <td>NaN</td>\n",
       "      <td>NaN</td>\n",
       "      <td>monographic</td>\n",
       "      <td>http://www.flickr.com/photos/britishlibrary/ta...</td>\n",
       "      <td>British Library HMNTS 12625.dd.1.</td>\n",
       "    </tr>\n",
       "    <tr>\n",
       "      <th>472</th>\n",
       "      <td>NaN</td>\n",
       "      <td>London</td>\n",
       "      <td>1851</td>\n",
       "      <td>James Darling</td>\n",
       "      <td>Welsh Sketches, chiefly ecclesiastical, to the...</td>\n",
       "      <td>A., E. S.</td>\n",
       "      <td>Appleyard, Ernest Silvanus.</td>\n",
       "      <td>NaN</td>\n",
       "      <td>NaN</td>\n",
       "      <td>NaN</td>\n",
       "      <td>NaN</td>\n",
       "      <td>monographic</td>\n",
       "      <td>http://www.flickr.com/photos/britishlibrary/ta...</td>\n",
       "      <td>British Library HMNTS 10369.bbb.15.</td>\n",
       "    </tr>\n",
       "    <tr>\n",
       "      <th>480</th>\n",
       "      <td>A new edition, revised, etc.</td>\n",
       "      <td>London</td>\n",
       "      <td>1857</td>\n",
       "      <td>Wertheim &amp; Macintosh</td>\n",
       "      <td>[The World in which I live, and my place in it...</td>\n",
       "      <td>A., E. S.</td>\n",
       "      <td>BROOME, John Henry.</td>\n",
       "      <td>NaN</td>\n",
       "      <td>NaN</td>\n",
       "      <td>NaN</td>\n",
       "      <td>NaN</td>\n",
       "      <td>monographic</td>\n",
       "      <td>http://www.flickr.com/photos/britishlibrary/ta...</td>\n",
       "      <td>British Library HMNTS 9007.d.28.</td>\n",
       "    </tr>\n",
       "  </tbody>\n",
       "</table>\n",
       "</div>"
      ],
      "text/plain": [
       "                       Edition Statement      Place of Publication  \\\n",
       "Identifier                                                           \n",
       "206                                  NaN                    London   \n",
       "216                                  NaN  London; Virtue & Yorston   \n",
       "218                                  NaN                    London   \n",
       "472                                  NaN                    London   \n",
       "480         A new edition, revised, etc.                    London   \n",
       "\n",
       "           Date of Publication              Publisher  \\\n",
       "Identifier                                              \n",
       "206                1879 [1878]       S. Tinsley & Co.   \n",
       "216                       1868           Virtue & Co.   \n",
       "218                       1869  Bradbury, Evans & Co.   \n",
       "472                       1851          James Darling   \n",
       "480                       1857   Wertheim & Macintosh   \n",
       "\n",
       "                                                        Title     Author  \\\n",
       "Identifier                                                                 \n",
       "206                         Walter Forbes. [A novel.] By A. A      A. A.   \n",
       "216         All for Greed. [A novel. The dedication signed...  A., A. A.   \n",
       "218         Love the Avenger. By the author of “All for Gr...  A., A. A.   \n",
       "472         Welsh Sketches, chiefly ecclesiastical, to the...  A., E. S.   \n",
       "480         [The World in which I live, and my place in it...  A., E. S.   \n",
       "\n",
       "                                            Contributors  Corporate Author  \\\n",
       "Identifier                                                                   \n",
       "206                                      FORBES, Walter.               NaN   \n",
       "216         BLAZE DE BURY, Marie Pauline Rose - Baroness               NaN   \n",
       "218         BLAZE DE BURY, Marie Pauline Rose - Baroness               NaN   \n",
       "472                          Appleyard, Ernest Silvanus.               NaN   \n",
       "480                                  BROOME, John Henry.               NaN   \n",
       "\n",
       "            Corporate Contributors Former owner  Engraver Issuance type  \\\n",
       "Identifier                                                                \n",
       "206                            NaN          NaN       NaN   monographic   \n",
       "216                            NaN          NaN       NaN   monographic   \n",
       "218                            NaN          NaN       NaN   monographic   \n",
       "472                            NaN          NaN       NaN   monographic   \n",
       "480                            NaN          NaN       NaN   monographic   \n",
       "\n",
       "                                                   Flickr URL  \\\n",
       "Identifier                                                      \n",
       "206         http://www.flickr.com/photos/britishlibrary/ta...   \n",
       "216         http://www.flickr.com/photos/britishlibrary/ta...   \n",
       "218         http://www.flickr.com/photos/britishlibrary/ta...   \n",
       "472         http://www.flickr.com/photos/britishlibrary/ta...   \n",
       "480         http://www.flickr.com/photos/britishlibrary/ta...   \n",
       "\n",
       "                                     Shelfmarks  \n",
       "Identifier                                       \n",
       "206           British Library HMNTS 12641.b.30.  \n",
       "216           British Library HMNTS 12626.cc.2.  \n",
       "218           British Library HMNTS 12625.dd.1.  \n",
       "472         British Library HMNTS 10369.bbb.15.  \n",
       "480            British Library HMNTS 9007.d.28.  "
      ]
     },
     "execution_count": 4,
     "metadata": {},
     "output_type": "execute_result"
    }
   ],
   "source": [
    "#replace the existing index with this column using set_index\n",
    "df = df.set_index('Identifier')\n",
    "df.head()"
   ]
  },
  {
   "cell_type": "code",
   "execution_count": 5,
   "id": "0719ab05",
   "metadata": {},
   "outputs": [
    {
     "data": {
      "text/plain": [
       "Edition Statement                                                       NaN\n",
       "Place of Publication                                                 London\n",
       "Date of Publication                                             1879 [1878]\n",
       "Publisher                                                  S. Tinsley & Co.\n",
       "Title                                     Walter Forbes. [A novel.] By A. A\n",
       "Author                                                                A. A.\n",
       "Contributors                                                FORBES, Walter.\n",
       "Corporate Author                                                        NaN\n",
       "Corporate Contributors                                                  NaN\n",
       "Former owner                                                            NaN\n",
       "Engraver                                                                NaN\n",
       "Issuance type                                                   monographic\n",
       "Flickr URL                http://www.flickr.com/photos/britishlibrary/ta...\n",
       "Shelfmarks                                British Library HMNTS 12641.b.30.\n",
       "Name: 206, dtype: object"
      ]
     },
     "execution_count": 5,
     "metadata": {},
     "output_type": "execute_result"
    }
   ],
   "source": [
    "#accessing each record in a straightforward way with loc[]\n",
    "df.loc[206]"
   ]
  },
  {
   "cell_type": "code",
   "execution_count": 6,
   "id": "c4170609",
   "metadata": {},
   "outputs": [
    {
     "data": {
      "text/plain": [
       "Identifier\n",
       "1905           1888\n",
       "1929    1839, 38-54\n",
       "2836           1897\n",
       "2854           1865\n",
       "2956        1860-63\n",
       "2957           1873\n",
       "3017           1866\n",
       "3131           1899\n",
       "4598           1814\n",
       "4884           1820\n",
       "Name: Date of Publication, dtype: object"
      ]
     },
     "execution_count": 6,
     "metadata": {},
     "output_type": "execute_result"
    }
   ],
   "source": [
    "df.loc[1905:, 'Date of Publication'].head(10)"
   ]
  },
  {
   "cell_type": "code",
   "execution_count": 7,
   "id": "438df88e",
   "metadata": {},
   "outputs": [
    {
     "data": {
      "text/plain": [
       "Identifier\n",
       "206    1879\n",
       "216    1868\n",
       "218    1869\n",
       "472    1851\n",
       "480    1857\n",
       "Name: Date of Publication, dtype: object"
      ]
     },
     "execution_count": 7,
     "metadata": {},
     "output_type": "execute_result"
    }
   ],
   "source": [
    "#running regex across our dataset\n",
    "extr= df['Date of Publication'].str.extract(r'^(\\d{4})', expand = False)\n",
    "extr.head()"
   ]
  },
  {
   "cell_type": "code",
   "execution_count": 8,
   "id": "dd8a0638",
   "metadata": {},
   "outputs": [
    {
     "data": {
      "text/plain": [
       "dtype('float64')"
      ]
     },
     "execution_count": 8,
     "metadata": {},
     "output_type": "execute_result"
    }
   ],
   "source": [
    "#converting object dtype into numerical version\n",
    "df['Date of Publication']= pd.to_numeric(extr)\n",
    "df['Date of Publication'].dtype"
   ]
  },
  {
   "cell_type": "code",
   "execution_count": 9,
   "id": "33b9de91",
   "metadata": {},
   "outputs": [
    {
     "name": "stdout",
     "output_type": "stream",
     "text": [
      "                       Edition Statement      Place of Publication  \\\n",
      "Identifier                                                           \n",
      "206                                  NaN                    London   \n",
      "216                                  NaN  London; Virtue & Yorston   \n",
      "218                                  NaN                    London   \n",
      "472                                  NaN                    London   \n",
      "480         A new edition, revised, etc.                    London   \n",
      "...                                  ...                       ...   \n",
      "4158088                              NaN                    London   \n",
      "4158128                              NaN                     Derby   \n",
      "4159563                              NaN                    London   \n",
      "4159587                              NaN       Newcastle upon Tyne   \n",
      "4160339                              NaN                    London   \n",
      "\n",
      "            Date of Publication                Publisher  \\\n",
      "Identifier                                                 \n",
      "206                      1879.0         S. Tinsley & Co.   \n",
      "216                      1868.0             Virtue & Co.   \n",
      "218                      1869.0    Bradbury, Evans & Co.   \n",
      "472                      1851.0            James Darling   \n",
      "480                      1857.0     Wertheim & Macintosh   \n",
      "...                         ...                      ...   \n",
      "4158088                  1838.0                      NaN   \n",
      "4158128                  1831.0          M. Mozley & Son   \n",
      "4159563                     NaN  T. Cadell and W. Davies   \n",
      "4159587                  1834.0         Mackenzie & Dent   \n",
      "4160339                  1834.0                      NaN   \n",
      "\n",
      "                                                        Title  \\\n",
      "Identifier                                                      \n",
      "206                         Walter Forbes. [A novel.] By A. A   \n",
      "216         All for Greed. [A novel. The dedication signed...   \n",
      "218         Love the Avenger. By the author of “All for Gr...   \n",
      "472         Welsh Sketches, chiefly ecclesiastical, to the...   \n",
      "480         [The World in which I live, and my place in it...   \n",
      "...                                                       ...   \n",
      "4158088     The Parochial History of Cornwall, founded on,...   \n",
      "4158128     The History and Gazetteer of the County of Der...   \n",
      "4159563     Magna Britannia; being a concise topographical...   \n",
      "4159587     An historical, topographical and descriptive v...   \n",
      "4160339     Collectanea Topographica et Genealogica. [Firs...   \n",
      "\n",
      "                                                       Author  \\\n",
      "Identifier                                                      \n",
      "206                                                     A. A.   \n",
      "216                                                 A., A. A.   \n",
      "218                                                 A., A. A.   \n",
      "472                                                 A., E. S.   \n",
      "480                                                 A., E. S.   \n",
      "...                                                       ...   \n",
      "4158088                    GIDDY, afterwards GILBERT, Davies.   \n",
      "4158128                            GLOVER, Stephen - of Derby   \n",
      "4159563     LYSONS, Daniel - M.A., F.R.S., and LYSONS (Sam...   \n",
      "4159587                                 Mackenzie, E. (Eneas)   \n",
      "4160339                                                   NaN   \n",
      "\n",
      "                                                 Contributors  \\\n",
      "Identifier                                                      \n",
      "206                                           FORBES, Walter.   \n",
      "216              BLAZE DE BURY, Marie Pauline Rose - Baroness   \n",
      "218              BLAZE DE BURY, Marie Pauline Rose - Baroness   \n",
      "472                               Appleyard, Ernest Silvanus.   \n",
      "480                                       BROOME, John Henry.   \n",
      "...                                                       ...   \n",
      "4158088     BOASE, Henry Samuel.|HALS, William.|LYSONS, Da...   \n",
      "4158128                                        NOBLE, Thomas.   \n",
      "4159563              GREGSON, Matthew.|LYSONS, Samuel - F.R.S   \n",
      "4159587                                  ROSS, M. - of Durham   \n",
      "4160339               BANDINEL, Bulkeley.|Nichols, John Gough   \n",
      "\n",
      "            Corporate Author  Corporate Contributors Former owner  Engraver  \\\n",
      "Identifier                                                                    \n",
      "206                      NaN                     NaN          NaN       NaN   \n",
      "216                      NaN                     NaN          NaN       NaN   \n",
      "218                      NaN                     NaN          NaN       NaN   \n",
      "472                      NaN                     NaN          NaN       NaN   \n",
      "480                      NaN                     NaN          NaN       NaN   \n",
      "...                      ...                     ...          ...       ...   \n",
      "4158088                  NaN                     NaN          NaN       NaN   \n",
      "4158128                  NaN                     NaN          NaN       NaN   \n",
      "4159563                  NaN                     NaN          NaN       NaN   \n",
      "4159587                  NaN                     NaN          NaN       NaN   \n",
      "4160339                  NaN                     NaN          NaN       NaN   \n",
      "\n",
      "           Issuance type                                         Flickr URL  \\\n",
      "Identifier                                                                    \n",
      "206          monographic  http://www.flickr.com/photos/britishlibrary/ta...   \n",
      "216          monographic  http://www.flickr.com/photos/britishlibrary/ta...   \n",
      "218          monographic  http://www.flickr.com/photos/britishlibrary/ta...   \n",
      "472          monographic  http://www.flickr.com/photos/britishlibrary/ta...   \n",
      "480          monographic  http://www.flickr.com/photos/britishlibrary/ta...   \n",
      "...                  ...                                                ...   \n",
      "4158088      monographic  http://www.flickr.com/photos/britishlibrary/ta...   \n",
      "4158128      monographic  http://www.flickr.com/photos/britishlibrary/ta...   \n",
      "4159563      monographic  http://www.flickr.com/photos/britishlibrary/ta...   \n",
      "4159587      monographic  http://www.flickr.com/photos/britishlibrary/ta...   \n",
      "4160339       continuing  http://www.flickr.com/photos/britishlibrary/ta...   \n",
      "\n",
      "                                                   Shelfmarks  \n",
      "Identifier                                                     \n",
      "206                         British Library HMNTS 12641.b.30.  \n",
      "216                         British Library HMNTS 12626.cc.2.  \n",
      "218                         British Library HMNTS 12625.dd.1.  \n",
      "472                       British Library HMNTS 10369.bbb.15.  \n",
      "480                          British Library HMNTS 9007.d.28.  \n",
      "...                                                       ...  \n",
      "4158088     British Library HMNTS|British Library HMNTS 10...  \n",
      "4158128     British Library HMNTS|British Library HMNTS 10...  \n",
      "4159563     British Library HMNTS|British Library HMNTS 19...  \n",
      "4159587     British Library HMNTS|British Library HMNTS 10...  \n",
      "4160339     British Library HMNTS|British Library HMNTS 79...  \n",
      "\n",
      "[8287 rows x 14 columns]\n"
     ]
    }
   ],
   "source": [
    "df['Date of Publication'].isnull().sum()\n",
    "print(df)"
   ]
  },
  {
   "cell_type": "code",
   "execution_count": 10,
   "id": "a4d9fcf1",
   "metadata": {},
   "outputs": [
    {
     "data": {
      "text/plain": [
       "Identifier\n",
       "206                                  London\n",
       "216                London; Virtue & Yorston\n",
       "218                                  London\n",
       "472                                  London\n",
       "480                                  London\n",
       "481                                  London\n",
       "519                                  London\n",
       "667     pp. 40. G. Bryan & Co: Oxford, 1898\n",
       "874                                 London]\n",
       "1143                                 London\n",
       "Name: Place of Publication, dtype: object"
      ]
     },
     "execution_count": 10,
     "metadata": {},
     "output_type": "execute_result"
    }
   ],
   "source": [
    "#Combining str Methods with Numpy to Clean Columns\n",
    "df['Place of Publication'].head(10)"
   ]
  },
  {
   "cell_type": "code",
   "execution_count": 11,
   "id": "56532d07",
   "metadata": {},
   "outputs": [
    {
     "data": {
      "text/plain": [
       "Edition Statement                                                       NaN\n",
       "Place of Publication                                    Newcastle-upon-Tyne\n",
       "Date of Publication                                                  1867.0\n",
       "Publisher                                                        T. Fordyce\n",
       "Title                     Local Records; or, Historical Register of rema...\n",
       "Author                        FORDYCE, T. - Printer, of Newcastle-upon-Tyne\n",
       "Contributors               SYKES, John - Bookseller, of Newcastle-upon-Tyne\n",
       "Corporate Author                                                        NaN\n",
       "Corporate Contributors                                                  NaN\n",
       "Former owner                                                            NaN\n",
       "Engraver                                                                NaN\n",
       "Issuance type                                                   monographic\n",
       "Flickr URL                http://www.flickr.com/photos/britishlibrary/ta...\n",
       "Shelfmarks                British Library HMNTS|British Library HMNTS 01...\n",
       "Name: 4157862, dtype: object"
      ]
     },
     "execution_count": 11,
     "metadata": {},
     "output_type": "execute_result"
    }
   ],
   "source": [
    "df.loc[4157862]"
   ]
  },
  {
   "cell_type": "code",
   "execution_count": 12,
   "id": "2dceaf3c",
   "metadata": {},
   "outputs": [
    {
     "data": {
      "text/plain": [
       "Edition Statement                                                       NaN\n",
       "Place of Publication                                    Newcastle upon Tyne\n",
       "Date of Publication                                                  1834.0\n",
       "Publisher                                                  Mackenzie & Dent\n",
       "Title                     An historical, topographical and descriptive v...\n",
       "Author                                                Mackenzie, E. (Eneas)\n",
       "Contributors                                           ROSS, M. - of Durham\n",
       "Corporate Author                                                        NaN\n",
       "Corporate Contributors                                                  NaN\n",
       "Former owner                                                            NaN\n",
       "Engraver                                                                NaN\n",
       "Issuance type                                                   monographic\n",
       "Flickr URL                http://www.flickr.com/photos/britishlibrary/ta...\n",
       "Shelfmarks                British Library HMNTS|British Library HMNTS 10...\n",
       "Name: 4159587, dtype: object"
      ]
     },
     "execution_count": 12,
     "metadata": {},
     "output_type": "execute_result"
    }
   ],
   "source": [
    "df.loc[4159587]"
   ]
  },
  {
   "cell_type": "code",
   "execution_count": 13,
   "id": "366be7a8",
   "metadata": {},
   "outputs": [
    {
     "data": {
      "text/plain": [
       "Identifier\n",
       "206    True\n",
       "216    True\n",
       "218    True\n",
       "472    True\n",
       "480    True\n",
       "Name: Place of Publication, dtype: bool"
      ]
     },
     "execution_count": 13,
     "metadata": {},
     "output_type": "execute_result"
    }
   ],
   "source": [
    "#To clean this column in one sweep, we can use str.contains() to get a Boolean mask\n",
    "pub= df['Place of Publication']\n",
    "london = pub.str.contains('London')\n",
    "london[:5]"
   ]
  },
  {
   "cell_type": "code",
   "execution_count": 14,
   "id": "d8f7e5a7",
   "metadata": {},
   "outputs": [
    {
     "data": {
      "text/plain": [
       "Identifier\n",
       "206    False\n",
       "216    False\n",
       "218    False\n",
       "472    False\n",
       "480    False\n",
       "Name: Place of Publication, dtype: bool"
      ]
     },
     "execution_count": 14,
     "metadata": {},
     "output_type": "execute_result"
    }
   ],
   "source": [
    "oxford = pub.str.contains('Oxford')\n",
    "oxford[:5]"
   ]
  },
  {
   "cell_type": "code",
   "execution_count": 16,
   "id": "30fa1af0",
   "metadata": {},
   "outputs": [
    {
     "data": {
      "text/plain": [
       "Identifier\n",
       "206    London\n",
       "216    London\n",
       "218    London\n",
       "472    London\n",
       "480    London\n",
       "Name: Place of Publication, dtype: object"
      ]
     },
     "execution_count": 16,
     "metadata": {},
     "output_type": "execute_result"
    }
   ],
   "source": [
    "df['Place of Publication']= np.where(london, 'London', np.where(oxford, 'Oxford',pub.str.replace('-',' ')))\n",
    "df['Place of Publication'].head()"
   ]
  },
  {
   "cell_type": "code",
   "execution_count": null,
   "id": "04c3bd2c",
   "metadata": {},
   "outputs": [],
   "source": []
  }
 ],
 "metadata": {
  "kernelspec": {
   "display_name": "Python 3 (ipykernel)",
   "language": "python",
   "name": "python3"
  },
  "language_info": {
   "codemirror_mode": {
    "name": "ipython",
    "version": 3
   },
   "file_extension": ".py",
   "mimetype": "text/x-python",
   "name": "python",
   "nbconvert_exporter": "python",
   "pygments_lexer": "ipython3",
   "version": "3.11.5"
  }
 },
 "nbformat": 4,
 "nbformat_minor": 5
}
